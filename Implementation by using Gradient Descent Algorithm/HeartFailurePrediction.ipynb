{
 "cells": [
  {
   "cell_type": "markdown",
   "id": "4e0f1b20",
   "metadata": {},
   "source": [
    "# Logistic regression"
   ]
  },
  {
   "cell_type": "code",
   "execution_count": 1,
   "id": "399770bd",
   "metadata": {},
   "outputs": [],
   "source": [
    "import numpy as np\n",
    "import pandas as pd \n",
    "import matplotlib.pyplot as plt\n",
    "from sklearn.model_selection import train_test_split"
   ]
  },
  {
   "cell_type": "code",
   "execution_count": 2,
   "id": "e32cdd22",
   "metadata": {},
   "outputs": [
    {
     "name": "stdout",
     "output_type": "stream",
     "text": [
      "   age  sex  cp  trestbps  chol  fbs  restecg  thalach  exang  oldpeak  slope  \\\n",
      "0   63    1   3       145   233    1        0      150      0      2.3      0   \n",
      "1   37    1   2       130   250    0        1      187      0      3.5      0   \n",
      "2   41    0   1       130   204    0        0      172      0      1.4      2   \n",
      "3   56    1   1       120   236    0        1      178      0      0.8      2   \n",
      "4   57    0   0       120   354    0        1      163      1      0.6      2   \n",
      "\n",
      "   ca  thal  target  \n",
      "0   0     1       1  \n",
      "1   0     2       1  \n",
      "2   0     2       1  \n",
      "3   0     2       1  \n",
      "4   0     2       1  \n",
      "(303, 14)\n"
     ]
    }
   ],
   "source": [
    "data = pd.read_csv('heart.csv')\n",
    "print(data.head())\n",
    "print(data.shape)"
   ]
  },
  {
   "cell_type": "code",
   "execution_count": 3,
   "id": "10756c08",
   "metadata": {},
   "outputs": [
    {
     "data": {
      "text/plain": [
       "age         0\n",
       "sex         0\n",
       "cp          0\n",
       "trestbps    0\n",
       "chol        0\n",
       "fbs         0\n",
       "restecg     0\n",
       "thalach     0\n",
       "exang       0\n",
       "oldpeak     0\n",
       "slope       0\n",
       "ca          0\n",
       "thal        0\n",
       "target      0\n",
       "dtype: int64"
      ]
     },
     "execution_count": 3,
     "metadata": {},
     "output_type": "execute_result"
    }
   ],
   "source": [
    "data.isnull().sum()"
   ]
  },
  {
   "cell_type": "code",
   "execution_count": 4,
   "id": "3d698373",
   "metadata": {},
   "outputs": [
    {
     "data": {
      "text/plain": [
       "(303, 13)"
      ]
     },
     "execution_count": 4,
     "metadata": {},
     "output_type": "execute_result"
    }
   ],
   "source": [
    "X = data.drop('target' , axis=1)\n",
    "Y = data['target']\n",
    "X.shape"
   ]
  },
  {
   "cell_type": "code",
   "execution_count": 5,
   "id": "60c204dc",
   "metadata": {},
   "outputs": [
    {
     "data": {
      "text/plain": [
       "(303, 14)"
      ]
     },
     "execution_count": 5,
     "metadata": {},
     "output_type": "execute_result"
    }
   ],
   "source": [
    "X.insert(0 ,column=\"constant\" ,value=np.ones(303) )\n",
    "X.shape"
   ]
  },
  {
   "cell_type": "code",
   "execution_count": 6,
   "id": "244f14aa",
   "metadata": {},
   "outputs": [],
   "source": [
    "def predict_Y(X , theta):\n",
    "    y_hat = np.dot(X,theta)\n",
    "    return y_hat"
   ]
  },
  {
   "cell_type": "code",
   "execution_count": 7,
   "id": "15f16c6a",
   "metadata": {},
   "outputs": [],
   "source": [
    "def predict_prob(X , theta):\n",
    "    y_hat = predict_Y(X , theta)\n",
    "    y_sigmoid = 1/(1+np.exp(-y_hat))\n",
    "    return y_sigmoid"
   ]
  },
  {
   "cell_type": "code",
   "execution_count": 8,
   "id": "ee6a25f3",
   "metadata": {},
   "outputs": [],
   "source": [
    "def cost_function(X,Y,theta):\n",
    "    m = len(Y)\n",
    "    y_ = predict_prob(X , theta)\n",
    "    cost = (np.sum(-(np.dot(Y , np.log(y_)))-(np.dot((1-Y) , np.log(1-y_)))))/m\n",
    "    return cost"
   ]
  },
  {
   "cell_type": "code",
   "execution_count": 9,
   "id": "5578bb3d",
   "metadata": {},
   "outputs": [],
   "source": [
    "# theta = np.zeros(14)\n",
    "# cost = cost_function(X , Y , theta)\n",
    "# cost"
   ]
  },
  {
   "cell_type": "code",
   "execution_count": 10,
   "id": "e716d7e6",
   "metadata": {},
   "outputs": [],
   "source": [
    "def Gradient_descent(X , Y , theta , alpha , iteration):\n",
    "    m = len(Y)\n",
    "    theta = theta.copy()\n",
    "    cost_history = []\n",
    "    for i in range(iteration):\n",
    "        y_ = predict_prob(X , theta)\n",
    "        diff = y_ - Y\n",
    "        theta = theta - (alpha/m)*np.dot(diff , X)\n",
    "        cost_history.append(cost_function(X , Y , theta))\n",
    "    \n",
    "    return theta , cost_history\n"
   ]
  },
  {
   "cell_type": "code",
   "execution_count": 11,
   "id": "3a3afb17",
   "metadata": {},
   "outputs": [
    {
     "name": "stdout",
     "output_type": "stream",
     "text": [
      "[-4.48824922e-04 -2.07729577e-02 -7.25386109e-03  1.68488767e-02\n",
      " -2.54521521e-02 -6.18875488e-03  5.32061178e-05  1.91449756e-03\n",
      "  3.72109675e-02 -7.08310415e-03 -1.63901175e-02  5.43203242e-03\n",
      " -1.50329541e-02 -9.89039715e-03]\n"
     ]
    }
   ],
   "source": [
    "theta = np.zeros(14)\n",
    "alpha = 0.0001\n",
    "iteration = 1000\n",
    "theta_ , cost_history = Gradient_descent(X , Y , theta , alpha , iteration) \n",
    "Y_ = predict_prob(X , theta_)\n",
    "print(theta_)\n"
   ]
  },
  {
   "cell_type": "code",
   "execution_count": 12,
   "id": "2e102390",
   "metadata": {},
   "outputs": [
    {
     "data": {
      "text/plain": [
       "Text(0.5, 1.0, 'Values of Cost Function over iterations of Gradient Descent')"
      ]
     },
     "execution_count": 12,
     "metadata": {},
     "output_type": "execute_result"
    },
    {
     "data": {
      "image/png": "[encoded data removed]",
      "text/plain": [
       "<Figure size 432x288 with 1 Axes>"
      ]
     },
     "metadata": {
      "needs_background": "light"
     },
     "output_type": "display_data"
    }
   ],
   "source": [
    "plt.plot(cost_history)\n",
    "plt.xlabel(\"Iterations\")\n",
    "plt.ylabel(\"$J(\\Theta)$\")\n",
    "plt.title(\"Values of Cost Function over iterations of Gradient Descent\")"
   ]
  },
  {
   "cell_type": "code",
   "execution_count": null,
   "id": "9b1c923c",
   "metadata": {},
   "outputs": [],
   "source": []
  }
 ],
 "metadata": {
  "kernelspec": {
   "display_name": "Python 3",
   "language": "python",
   "name": "python3"
  },
  "language_info": {
   "codemirror_mode": {
    "name": "ipython",
    "version": 3
   },
   "file_extension": ".py",
   "mimetype": "text/x-python",
   "name": "python",
   "nbconvert_exporter": "python",
   "pygments_lexer": "ipython3",
   "version": "3.9.1"
  }
 },
 "nbformat": 4,
 "nbformat_minor": 5
}
